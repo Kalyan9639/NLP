{
 "cells": [
  {
   "cell_type": "markdown",
   "id": "7411e319-1d38-4708-8c13-043d66087d8e",
   "metadata": {},
   "source": [
    "# AI Text Detection System/Model:"
   ]
  },
  {
   "cell_type": "markdown",
   "id": "d9d77a9e-8921-4644-b2ce-b586f517b5e2",
   "metadata": {},
   "source": [
    "***You can download the dataset from here:*** https://huggingface.co/datasets/dmitva/human_ai_generated_text"
   ]
  },
  {
   "cell_type": "code",
   "execution_count": 2,
   "id": "24ac4694-d9a5-42db-8d9e-ceb760a51a6f",
   "metadata": {},
   "outputs": [
    {
     "data": {
      "text/html": [
       "<div>\n",
       "<style scoped>\n",
       "    .dataframe tbody tr th:only-of-type {\n",
       "        vertical-align: middle;\n",
       "    }\n",
       "\n",
       "    .dataframe tbody tr th {\n",
       "        vertical-align: top;\n",
       "    }\n",
       "\n",
       "    .dataframe thead th {\n",
       "        text-align: right;\n",
       "    }\n",
       "</style>\n",
       "<table border=\"1\" class=\"dataframe\">\n",
       "  <thead>\n",
       "    <tr style=\"text-align: right;\">\n",
       "      <th></th>\n",
       "      <th>id</th>\n",
       "      <th>human_text</th>\n",
       "      <th>ai_text</th>\n",
       "      <th>instructions</th>\n",
       "    </tr>\n",
       "  </thead>\n",
       "  <tbody>\n",
       "    <tr>\n",
       "      <th>0</th>\n",
       "      <td>cc902a20-27c4-4c18-8012-048a328206d1</td>\n",
       "      <td>Also they feel more comfortable at home. Some ...</td>\n",
       "      <td>\\n\\nTherefore, when it comes to allowing stude...</td>\n",
       "      <td>Task: Write a persuasive essay on whether or n...</td>\n",
       "    </tr>\n",
       "    <tr>\n",
       "      <th>1</th>\n",
       "      <td>c4d2fbe3-e966-479d-89c4-62e1729b6255</td>\n",
       "      <td>I can get another job to work on the weekends,...</td>\n",
       "      <td>It is important to weigh both the potential co...</td>\n",
       "      <td>Task: Research the advantages and disadvantage...</td>\n",
       "    </tr>\n",
       "    <tr>\n",
       "      <th>2</th>\n",
       "      <td>710f585e-5e98-42b8-81f6-265d7c934645</td>\n",
       "      <td>parents and school should agree on the desicio...</td>\n",
       "      <td>To ensure that parents are comfortable with th...</td>\n",
       "      <td>Task: \\n\\n1. Talk to your parents before takin...</td>\n",
       "    </tr>\n",
       "    <tr>\n",
       "      <th>3</th>\n",
       "      <td>e4db6c43-7b6b-4385-9b67-04652c71df0c</td>\n",
       "      <td>Base in my experiences I'm growing, I try hard...</td>\n",
       "      <td>As Emerson said, by going confidently in the d...</td>\n",
       "      <td>Task: Write an essay discussing the benefits o...</td>\n",
       "    </tr>\n",
       "    <tr>\n",
       "      <th>4</th>\n",
       "      <td>7a48bcf1-cbb4-4f41-b99a-ea859c56afdf</td>\n",
       "      <td>Many people around the world have different ch...</td>\n",
       "      <td>Parents, for example, can have a major influen...</td>\n",
       "      <td>Task: Research and discuss how character trait...</td>\n",
       "    </tr>\n",
       "  </tbody>\n",
       "</table>\n",
       "</div>"
      ],
      "text/plain": [
       "                                     id  \\\n",
       "0  cc902a20-27c4-4c18-8012-048a328206d1   \n",
       "1  c4d2fbe3-e966-479d-89c4-62e1729b6255   \n",
       "2  710f585e-5e98-42b8-81f6-265d7c934645   \n",
       "3  e4db6c43-7b6b-4385-9b67-04652c71df0c   \n",
       "4  7a48bcf1-cbb4-4f41-b99a-ea859c56afdf   \n",
       "\n",
       "                                          human_text  \\\n",
       "0  Also they feel more comfortable at home. Some ...   \n",
       "1  I can get another job to work on the weekends,...   \n",
       "2  parents and school should agree on the desicio...   \n",
       "3  Base in my experiences I'm growing, I try hard...   \n",
       "4  Many people around the world have different ch...   \n",
       "\n",
       "                                             ai_text  \\\n",
       "0  \\n\\nTherefore, when it comes to allowing stude...   \n",
       "1  It is important to weigh both the potential co...   \n",
       "2  To ensure that parents are comfortable with th...   \n",
       "3  As Emerson said, by going confidently in the d...   \n",
       "4  Parents, for example, can have a major influen...   \n",
       "\n",
       "                                        instructions  \n",
       "0  Task: Write a persuasive essay on whether or n...  \n",
       "1  Task: Research the advantages and disadvantage...  \n",
       "2  Task: \\n\\n1. Talk to your parents before takin...  \n",
       "3  Task: Write an essay discussing the benefits o...  \n",
       "4  Task: Research and discuss how character trait...  "
      ]
     },
     "execution_count": 2,
     "metadata": {},
     "output_type": "execute_result"
    }
   ],
   "source": [
    "import pandas as pd\n",
    "df = pd.read_csv(\"E:/Downloads/model_training_dataset.csv\")\n",
    "df.head()"
   ]
  },
  {
   "cell_type": "code",
   "execution_count": 3,
   "id": "13bdb9fd-663b-49bb-8908-8fa50e407d56",
   "metadata": {},
   "outputs": [
    {
     "data": {
      "text/plain": [
       "\"Also they feel more comfortable at home. Some school have decreased bullying and high and middle school because some students get bullied. Some Schools offter distance learning as an option for students to attend classes from home by way of online or video conferencing. Students can ncreased to learn at home. Also is more hard to students understand by online. students get distract at home. Some schools in United States ofter classes from home because is good option to students . Also students can stay more relaxing from home. Students don't want to go more at school and they want to get classes at home. Students get fall in environment learning. But students can get relaxing at home.\\n\\nStudents can get distract at home because they have easy to use phones. If students sleep in class they want to sleep at home too. They feel more bored at home because they need stay at home more time. Also students don't do anything at home because if they stay at home is esay to get more distract. Students can get fall in environment learning and is hard they learn at home. Students have more time to do homework. Also they don't want to learn by online. Also many students have hard time in class to understand that teacher explain in more hard they learn at home.\\n\\nSome schools affter classes from home because they think is good option to students. If they get classes at home they don't learning. Many students work and they would tired and they don't want to learn.\\n\\nStudents don't pay attention in class they too don't pay attention at home because is more hard. But students get more distract stay near the family and they don't want to pay attention.\\n\\nConclude if students get classes from home by online they don't want to pay attention because is more easy they get distract. Students feel more pressure at home. Also they want to play or use phone and not is good option to students get class at home they get distration and decrease to learning. Also students get frustration in class because they don't understand but if they get classes in online they don't learning too because is more hard they learning from home.. Also they want to listening to music or play.\\n\\nStudents fall in environment learning because they learn at class when the teacher explain if students attend classes from home by online is hard they learn. Also student sleep more and stay with more energy to receive the class by online. Also they feel safe at home with their family\""
      ]
     },
     "execution_count": 3,
     "metadata": {},
     "output_type": "execute_result"
    }
   ],
   "source": [
    "df.human_text[0]"
   ]
  },
  {
   "cell_type": "code",
   "execution_count": 4,
   "id": "db9d5e5b-72fe-4d6a-aae0-4ddd0c5419f2",
   "metadata": {},
   "outputs": [
    {
     "data": {
      "text/plain": [
       "'\\n\\nTherefore, when it comes to allowing students the option to attend classes from home, there are intricacies that need to be taken into consideration in order to ensure that the best decision is made. Ultimately, this decision will depend on the individual student and their ability to take advantage of the opportunities available to them.. \\n\\nHowever, in the end, the effect that home-based classes will have on learning is largely dependent on the situation of the student. On the other hand, there could be a lack of social interaction with classmates, a lack of guidance from instructors, and potential technical issues as well. For example, those who are already motivated to learn and are self-disciplined may reap the full benefits of studying in the comfort of their own home. Conversely, for those who require more interaction and guidance that comes with physical classrooms, a home-based learning style may not be as effective. On the one hand, it eliminates the need for physical attendance to classrooms, reduces the psychology of peer pressure, and eliminates potential health risks resulting from attending crowded places. In addition, students have the opportunity to arrange their learning environment according to their preferences and better manage their own time. \\nWhen considering the pros and cons of attending classes from home, there is no doubt that there are a variety of advantages and disadvantages'"
      ]
     },
     "execution_count": 4,
     "metadata": {},
     "output_type": "execute_result"
    }
   ],
   "source": [
    "df.ai_text[0]"
   ]
  },
  {
   "cell_type": "code",
   "execution_count": 5,
   "id": "f8d4d227-cece-41b7-8ff2-947ca7e7d69c",
   "metadata": {},
   "outputs": [
    {
     "data": {
      "text/plain": [
       "'Task: Write a persuasive essay on whether or not classes from home should be offered as an option for students to attend. Describe the advantages and disadvantages of attending classes from home, as well as the effect it may have on learning. Cite examples to support your argument.'"
      ]
     },
     "execution_count": 5,
     "metadata": {},
     "output_type": "execute_result"
    }
   ],
   "source": [
    "df.instructions[0]"
   ]
  },
  {
   "cell_type": "code",
   "execution_count": 6,
   "id": "5fcd6848-b8b7-4f14-a13d-8b35d3a74bdc",
   "metadata": {},
   "outputs": [
    {
     "data": {
      "text/plain": [
       "(1000000, 4)"
      ]
     },
     "execution_count": 6,
     "metadata": {},
     "output_type": "execute_result"
    }
   ],
   "source": [
    "df.shape"
   ]
  },
  {
   "cell_type": "code",
   "execution_count": 7,
   "id": "ebcfa7bc-39a5-4e6a-9326-b1e6ae3d2100",
   "metadata": {},
   "outputs": [],
   "source": [
    "# df1 = df.drop([\"id\",\"instructions\"],axis = 1)\n",
    "# df1.head()"
   ]
  },
  {
   "cell_type": "code",
   "execution_count": 8,
   "id": "9868c383-3288-4d50-b740-c63d2981ba46",
   "metadata": {},
   "outputs": [],
   "source": [
    "human_data = pd.DataFrame({\"data\": df[\"human_text\"], \"label\": 1})\n",
    "ai_data = pd.DataFrame({\"data\": df[\"ai_text\"], \"label\": 0})"
   ]
  },
  {
   "cell_type": "code",
   "execution_count": 9,
   "id": "ae7fd752-c9e1-4307-b09d-7e6c1e5add39",
   "metadata": {},
   "outputs": [
    {
     "data": {
      "text/html": [
       "<div>\n",
       "<style scoped>\n",
       "    .dataframe tbody tr th:only-of-type {\n",
       "        vertical-align: middle;\n",
       "    }\n",
       "\n",
       "    .dataframe tbody tr th {\n",
       "        vertical-align: top;\n",
       "    }\n",
       "\n",
       "    .dataframe thead th {\n",
       "        text-align: right;\n",
       "    }\n",
       "</style>\n",
       "<table border=\"1\" class=\"dataframe\">\n",
       "  <thead>\n",
       "    <tr style=\"text-align: right;\">\n",
       "      <th></th>\n",
       "      <th>data</th>\n",
       "      <th>label</th>\n",
       "    </tr>\n",
       "  </thead>\n",
       "  <tbody>\n",
       "    <tr>\n",
       "      <th>0</th>\n",
       "      <td>Additionally, honesty in relationships can als...</td>\n",
       "      <td>0</td>\n",
       "    </tr>\n",
       "    <tr>\n",
       "      <th>1</th>\n",
       "      <td>They worry that if they make the wrong choice,...</td>\n",
       "      <td>0</td>\n",
       "    </tr>\n",
       "    <tr>\n",
       "      <th>2</th>\n",
       "      <td>This means earlier access to post-graduate stu...</td>\n",
       "      <td>0</td>\n",
       "    </tr>\n",
       "    <tr>\n",
       "      <th>3</th>\n",
       "      <td>I believe that people whom value their self, s...</td>\n",
       "      <td>1</td>\n",
       "    </tr>\n",
       "    <tr>\n",
       "      <th>4</th>\n",
       "      <td>In additaion, techonloy has alot information w...</td>\n",
       "      <td>1</td>\n",
       "    </tr>\n",
       "  </tbody>\n",
       "</table>\n",
       "</div>"
      ],
      "text/plain": [
       "                                                data  label\n",
       "0  Additionally, honesty in relationships can als...      0\n",
       "1  They worry that if they make the wrong choice,...      0\n",
       "2  This means earlier access to post-graduate stu...      0\n",
       "3  I believe that people whom value their self, s...      1\n",
       "4  In additaion, techonloy has alot information w...      1"
      ]
     },
     "execution_count": 9,
     "metadata": {},
     "output_type": "execute_result"
    }
   ],
   "source": [
    "combined_data = pd.concat([human_data, ai_data])\n",
    "df2 = combined_data.sample(frac=1).reset_index(drop=True)\n",
    "df2.head()"
   ]
  },
  {
   "cell_type": "code",
   "execution_count": 10,
   "id": "068708d4-d4b8-430f-b7d6-628d7522ee6f",
   "metadata": {},
   "outputs": [
    {
     "data": {
      "text/plain": [
       "(2000000, 2)"
      ]
     },
     "execution_count": 10,
     "metadata": {},
     "output_type": "execute_result"
    }
   ],
   "source": [
    "df2.shape"
   ]
  },
  {
   "cell_type": "code",
   "execution_count": 11,
   "id": "e8d274db-e5b8-4cd8-b64c-c22225d14880",
   "metadata": {},
   "outputs": [
    {
     "data": {
      "text/plain": [
       "label\n",
       "0    1000000\n",
       "1    1000000\n",
       "Name: count, dtype: int64"
      ]
     },
     "execution_count": 11,
     "metadata": {},
     "output_type": "execute_result"
    }
   ],
   "source": [
    "df2.label.value_counts()"
   ]
  },
  {
   "cell_type": "code",
   "execution_count": 12,
   "id": "bd020ce4-736f-4d9d-8d7d-3cd7d3b466c0",
   "metadata": {},
   "outputs": [],
   "source": [
    "import gensim\n",
    "from gensim.models import Word2Vec"
   ]
  },
  {
   "cell_type": "code",
   "execution_count": 13,
   "id": "5a741f16-023b-4911-a024-404d0d2e8586",
   "metadata": {},
   "outputs": [],
   "source": [
    "model = Word2Vec(\n",
    "    window = 10,\n",
    "    min_count=5,\n",
    "    workers = 4\n",
    ")"
   ]
  },
  {
   "cell_type": "code",
   "execution_count": 16,
   "id": "63c21867-f389-4e1a-8def-d387919ef2d2",
   "metadata": {},
   "outputs": [],
   "source": [
    "import spacy\n",
    "nlp = spacy.load(\"en_core_web_sm\")"
   ]
  },
  {
   "cell_type": "code",
   "execution_count": 18,
   "id": "9fbab9b5-0aac-4409-8276-26f179fab011",
   "metadata": {},
   "outputs": [],
   "source": [
    "def preprocess(sent):\n",
    "    tokenized = []\n",
    "    doc = nlp(sent)\n",
    "    for token in doc:\n",
    "        if not token.is_stop:\n",
    "            tokenized.append(token.lemma_)\n",
    "    return \" \".join(tokenized)"
   ]
  },
  {
   "cell_type": "markdown",
   "id": "5bcddc98-15e5-473c-9181-0fb5f6f4fdc8",
   "metadata": {},
   "source": [
    "# Since I don't have high computational power, i am taking only 2000 samples from the dataset."
   ]
  },
  {
   "cell_type": "code",
   "execution_count": 31,
   "id": "ff5b8212-8076-44bb-a67a-8d1510aa0a97",
   "metadata": {},
   "outputs": [],
   "source": [
    "def reduce_size(df,subset_size = 1000):\n",
    "    label_1_df = df[df[\"label\"] == 1].sample(n=subset_size, random_state=42)\n",
    "    label_0_df = df[df[\"label\"] == 0].sample(n=subset_size, random_state=42)\n",
    "\n",
    "    balanced_df = pd.concat([label_1_df, label_0_df]).sample(frac=1, random_state=42).reset_index(drop=True)\n",
    "    return balanced_df"
   ]
  },
  {
   "cell_type": "code",
   "execution_count": 32,
   "id": "36235dc6-85fe-4b35-bdac-66ba106c1a59",
   "metadata": {},
   "outputs": [
    {
     "data": {
      "text/html": [
       "<div>\n",
       "<style scoped>\n",
       "    .dataframe tbody tr th:only-of-type {\n",
       "        vertical-align: middle;\n",
       "    }\n",
       "\n",
       "    .dataframe tbody tr th {\n",
       "        vertical-align: top;\n",
       "    }\n",
       "\n",
       "    .dataframe thead th {\n",
       "        text-align: right;\n",
       "    }\n",
       "</style>\n",
       "<table border=\"1\" class=\"dataframe\">\n",
       "  <thead>\n",
       "    <tr style=\"text-align: right;\">\n",
       "      <th></th>\n",
       "      <th>data</th>\n",
       "      <th>label</th>\n",
       "    </tr>\n",
       "  </thead>\n",
       "  <tbody>\n",
       "    <tr>\n",
       "      <th>0</th>\n",
       "      <td>\\n\\nSeveral educational facilities have alread...</td>\n",
       "      <td>0</td>\n",
       "    </tr>\n",
       "    <tr>\n",
       "      <th>1</th>\n",
       "      <td>But also make their own decisions. we never ar...</td>\n",
       "      <td>1</td>\n",
       "    </tr>\n",
       "    <tr>\n",
       "      <th>2</th>\n",
       "      <td>With some planning and a little extra effort, ...</td>\n",
       "      <td>0</td>\n",
       "    </tr>\n",
       "    <tr>\n",
       "      <th>3</th>\n",
       "      <td>I am so disagree with some persons because no ...</td>\n",
       "      <td>1</td>\n",
       "    </tr>\n",
       "    <tr>\n",
       "      <th>4</th>\n",
       "      <td>It also encourages us to be proactive and enha...</td>\n",
       "      <td>0</td>\n",
       "    </tr>\n",
       "  </tbody>\n",
       "</table>\n",
       "</div>"
      ],
      "text/plain": [
       "                                                data  label\n",
       "0  \\n\\nSeveral educational facilities have alread...      0\n",
       "1  But also make their own decisions. we never ar...      1\n",
       "2  With some planning and a little extra effort, ...      0\n",
       "3  I am so disagree with some persons because no ...      1\n",
       "4  It also encourages us to be proactive and enha...      0"
      ]
     },
     "execution_count": 32,
     "metadata": {},
     "output_type": "execute_result"
    }
   ],
   "source": [
    "df3 = reduce_size(df2)\n",
    "df3.head()"
   ]
  },
  {
   "cell_type": "code",
   "execution_count": 33,
   "id": "b7a2881f-4667-444e-ad54-ee003b3da365",
   "metadata": {},
   "outputs": [
    {
     "data": {
      "text/plain": [
       "(2000, 2)"
      ]
     },
     "execution_count": 33,
     "metadata": {},
     "output_type": "execute_result"
    }
   ],
   "source": [
    "df3.shape"
   ]
  },
  {
   "cell_type": "code",
   "execution_count": 34,
   "id": "7c15a800-28ad-408f-8816-cb2db91b0c61",
   "metadata": {},
   "outputs": [
    {
     "data": {
      "text/html": [
       "<div>\n",
       "<style scoped>\n",
       "    .dataframe tbody tr th:only-of-type {\n",
       "        vertical-align: middle;\n",
       "    }\n",
       "\n",
       "    .dataframe tbody tr th {\n",
       "        vertical-align: top;\n",
       "    }\n",
       "\n",
       "    .dataframe thead th {\n",
       "        text-align: right;\n",
       "    }\n",
       "</style>\n",
       "<table border=\"1\" class=\"dataframe\">\n",
       "  <thead>\n",
       "    <tr style=\"text-align: right;\">\n",
       "      <th></th>\n",
       "      <th>data</th>\n",
       "      <th>label</th>\n",
       "      <th>preprocess</th>\n",
       "    </tr>\n",
       "  </thead>\n",
       "  <tbody>\n",
       "    <tr>\n",
       "      <th>0</th>\n",
       "      <td>\\n\\nSeveral educational facilities have alread...</td>\n",
       "      <td>0</td>\n",
       "      <td>\\n\\n educational facility establish - school p...</td>\n",
       "    </tr>\n",
       "    <tr>\n",
       "      <th>1</th>\n",
       "      <td>But also make their own decisions. we never ar...</td>\n",
       "      <td>1</td>\n",
       "      <td>decision . go know go happend . afraid onw dec...</td>\n",
       "    </tr>\n",
       "    <tr>\n",
       "      <th>2</th>\n",
       "      <td>With some planning and a little extra effort, ...</td>\n",
       "      <td>0</td>\n",
       "      <td>planning little extra effort , ensure forget i...</td>\n",
       "    </tr>\n",
       "    <tr>\n",
       "      <th>3</th>\n",
       "      <td>I am so disagree with some persons because no ...</td>\n",
       "      <td>1</td>\n",
       "      <td>disagree person like tree tree cute \\n\\n decis...</td>\n",
       "    </tr>\n",
       "    <tr>\n",
       "      <th>4</th>\n",
       "      <td>It also encourages us to be proactive and enha...</td>\n",
       "      <td>0</td>\n",
       "      <td>encourage proactive enhance productivity entir...</td>\n",
       "    </tr>\n",
       "  </tbody>\n",
       "</table>\n",
       "</div>"
      ],
      "text/plain": [
       "                                                data  label  \\\n",
       "0  \\n\\nSeveral educational facilities have alread...      0   \n",
       "1  But also make their own decisions. we never ar...      1   \n",
       "2  With some planning and a little extra effort, ...      0   \n",
       "3  I am so disagree with some persons because no ...      1   \n",
       "4  It also encourages us to be proactive and enha...      0   \n",
       "\n",
       "                                          preprocess  \n",
       "0  \\n\\n educational facility establish - school p...  \n",
       "1  decision . go know go happend . afraid onw dec...  \n",
       "2  planning little extra effort , ensure forget i...  \n",
       "3  disagree person like tree tree cute \\n\\n decis...  \n",
       "4  encourage proactive enhance productivity entir...  "
      ]
     },
     "execution_count": 34,
     "metadata": {},
     "output_type": "execute_result"
    }
   ],
   "source": [
    "df3['preprocess'] = df3.data.apply(preprocess)\n",
    "df3.head()"
   ]
  },
  {
   "cell_type": "code",
   "execution_count": 35,
   "id": "0f51b27f-6ad6-4aa6-9666-c270d8df9c44",
   "metadata": {},
   "outputs": [
    {
     "name": "stdout",
     "output_type": "stream",
     "text": [
      "hi\n"
     ]
    }
   ],
   "source": [
    "print(\"hi\")"
   ]
  },
  {
   "cell_type": "code",
   "execution_count": 36,
   "id": "fa592101-5507-486f-8f80-d3e974c22317",
   "metadata": {},
   "outputs": [
    {
     "name": "stdout",
     "output_type": "stream",
     "text": [
      "hi\n"
     ]
    }
   ],
   "source": [
    "print(\"hi\") "
   ]
  },
  {
   "cell_type": "code",
   "execution_count": 37,
   "id": "73ddcdf8-3e41-4cae-93e9-d0976384afe4",
   "metadata": {},
   "outputs": [
    {
     "name": "stdout",
     "output_type": "stream",
     "text": [
      "HI\n"
     ]
    }
   ],
   "source": [
    "print(\"HI\")"
   ]
  },
  {
   "cell_type": "code",
   "execution_count": 38,
   "id": "e21207ee-dd8b-404b-94dc-f64d4c34ebef",
   "metadata": {
    "scrolled": true
   },
   "outputs": [
    {
     "data": {
      "text/html": [
       "<div>\n",
       "<style scoped>\n",
       "    .dataframe tbody tr th:only-of-type {\n",
       "        vertical-align: middle;\n",
       "    }\n",
       "\n",
       "    .dataframe tbody tr th {\n",
       "        vertical-align: top;\n",
       "    }\n",
       "\n",
       "    .dataframe thead th {\n",
       "        text-align: right;\n",
       "    }\n",
       "</style>\n",
       "<table border=\"1\" class=\"dataframe\">\n",
       "  <thead>\n",
       "    <tr style=\"text-align: right;\">\n",
       "      <th></th>\n",
       "      <th>data</th>\n",
       "      <th>label</th>\n",
       "      <th>preprocess</th>\n",
       "      <th>tokenized</th>\n",
       "    </tr>\n",
       "  </thead>\n",
       "  <tbody>\n",
       "    <tr>\n",
       "      <th>0</th>\n",
       "      <td>\\n\\nSeveral educational facilities have alread...</td>\n",
       "      <td>0</td>\n",
       "      <td>\\n\\n educational facility establish - school p...</td>\n",
       "      <td>[educational, facility, establish, school, pro...</td>\n",
       "    </tr>\n",
       "    <tr>\n",
       "      <th>1</th>\n",
       "      <td>But also make their own decisions. we never ar...</td>\n",
       "      <td>1</td>\n",
       "      <td>decision . go know go happend . afraid onw dec...</td>\n",
       "      <td>[decision, go, know, go, happend, afraid, onw,...</td>\n",
       "    </tr>\n",
       "    <tr>\n",
       "      <th>2</th>\n",
       "      <td>With some planning and a little extra effort, ...</td>\n",
       "      <td>0</td>\n",
       "      <td>planning little extra effort , ensure forget i...</td>\n",
       "      <td>[planning, little, extra, effort, ensure, forg...</td>\n",
       "    </tr>\n",
       "    <tr>\n",
       "      <th>3</th>\n",
       "      <td>I am so disagree with some persons because no ...</td>\n",
       "      <td>1</td>\n",
       "      <td>disagree person like tree tree cute \\n\\n decis...</td>\n",
       "      <td>[disagree, person, like, tree, tree, cute, dec...</td>\n",
       "    </tr>\n",
       "    <tr>\n",
       "      <th>4</th>\n",
       "      <td>It also encourages us to be proactive and enha...</td>\n",
       "      <td>0</td>\n",
       "      <td>encourage proactive enhance productivity entir...</td>\n",
       "      <td>[encourage, proactive, enhance, productivity, ...</td>\n",
       "    </tr>\n",
       "  </tbody>\n",
       "</table>\n",
       "</div>"
      ],
      "text/plain": [
       "                                                data  label  \\\n",
       "0  \\n\\nSeveral educational facilities have alread...      0   \n",
       "1  But also make their own decisions. we never ar...      1   \n",
       "2  With some planning and a little extra effort, ...      0   \n",
       "3  I am so disagree with some persons because no ...      1   \n",
       "4  It also encourages us to be proactive and enha...      0   \n",
       "\n",
       "                                          preprocess  \\\n",
       "0  \\n\\n educational facility establish - school p...   \n",
       "1  decision . go know go happend . afraid onw dec...   \n",
       "2  planning little extra effort , ensure forget i...   \n",
       "3  disagree person like tree tree cute \\n\\n decis...   \n",
       "4  encourage proactive enhance productivity entir...   \n",
       "\n",
       "                                           tokenized  \n",
       "0  [educational, facility, establish, school, pro...  \n",
       "1  [decision, go, know, go, happend, afraid, onw,...  \n",
       "2  [planning, little, extra, effort, ensure, forg...  \n",
       "3  [disagree, person, like, tree, tree, cute, dec...  \n",
       "4  [encourage, proactive, enhance, productivity, ...  "
      ]
     },
     "execution_count": 38,
     "metadata": {},
     "output_type": "execute_result"
    }
   ],
   "source": [
    "df3['tokenized'] = df3.preprocess.apply(gensim.utils.simple_preprocess)\n",
    "df3.head()"
   ]
  },
  {
   "cell_type": "code",
   "execution_count": 39,
   "id": "6a84c864-b51e-452c-a1b9-8749f6a8a9d5",
   "metadata": {},
   "outputs": [],
   "source": [
    "model.build_vocab(df3.tokenized)"
   ]
  },
  {
   "cell_type": "code",
   "execution_count": 40,
   "id": "fd439335-2ebf-4943-b697-ee92be8521cc",
   "metadata": {},
   "outputs": [
    {
     "data": {
      "text/plain": [
       "(1030435, 1299205)"
      ]
     },
     "execution_count": 40,
     "metadata": {},
     "output_type": "execute_result"
    }
   ],
   "source": [
    "model.train(df3.tokenized, total_examples = model.corpus_count, epochs = model.epochs)"
   ]
  },
  {
   "cell_type": "code",
   "execution_count": 41,
   "id": "d7fb04ac-0bde-4e04-8ac8-0e80508c2337",
   "metadata": {},
   "outputs": [
    {
     "name": "stdout",
     "output_type": "stream",
     "text": [
      "hi\n"
     ]
    }
   ],
   "source": [
    "if \"go\" in model.wv:\n",
    "    print(\"hi\")"
   ]
  },
  {
   "cell_type": "code",
   "execution_count": 43,
   "id": "b8beb24c-c158-4a40-98e7-0cf64524306a",
   "metadata": {},
   "outputs": [],
   "source": [
    "import numpy as np"
   ]
  },
  {
   "cell_type": "code",
   "execution_count": 44,
   "id": "183cbe87-720a-43e4-9938-6509bfa6e408",
   "metadata": {
    "scrolled": true
   },
   "outputs": [],
   "source": [
    "def data_vector(text,model):\n",
    "    vectorized = [model.wv[word] for word in text if word in model.wv ]\n",
    "    return np.mean(vectorized,axis = 0) if vectorized else np.zeros(vectorized,axis)\n",
    "\n",
    "df3['data_vectors'] = df3.tokenized.apply(lambda x: data_vector(x,model))"
   ]
  },
  {
   "cell_type": "code",
   "execution_count": 45,
   "id": "150b9423-8620-460e-a297-9c4c80ae9296",
   "metadata": {},
   "outputs": [
    {
     "data": {
      "text/html": [
       "<div>\n",
       "<style scoped>\n",
       "    .dataframe tbody tr th:only-of-type {\n",
       "        vertical-align: middle;\n",
       "    }\n",
       "\n",
       "    .dataframe tbody tr th {\n",
       "        vertical-align: top;\n",
       "    }\n",
       "\n",
       "    .dataframe thead th {\n",
       "        text-align: right;\n",
       "    }\n",
       "</style>\n",
       "<table border=\"1\" class=\"dataframe\">\n",
       "  <thead>\n",
       "    <tr style=\"text-align: right;\">\n",
       "      <th></th>\n",
       "      <th>data</th>\n",
       "      <th>label</th>\n",
       "      <th>preprocess</th>\n",
       "      <th>tokenized</th>\n",
       "      <th>data_vectors</th>\n",
       "    </tr>\n",
       "  </thead>\n",
       "  <tbody>\n",
       "    <tr>\n",
       "      <th>0</th>\n",
       "      <td>\\n\\nSeveral educational facilities have alread...</td>\n",
       "      <td>0</td>\n",
       "      <td>\\n\\n educational facility establish - school p...</td>\n",
       "      <td>[educational, facility, establish, school, pro...</td>\n",
       "      <td>[0.42978403, 0.48134315, -0.20548621, -0.01702...</td>\n",
       "    </tr>\n",
       "    <tr>\n",
       "      <th>1</th>\n",
       "      <td>But also make their own decisions. we never ar...</td>\n",
       "      <td>1</td>\n",
       "      <td>decision . go know go happend . afraid onw dec...</td>\n",
       "      <td>[decision, go, know, go, happend, afraid, onw,...</td>\n",
       "      <td>[0.15664934, 0.278946, -0.19432779, 0.41142726...</td>\n",
       "    </tr>\n",
       "    <tr>\n",
       "      <th>2</th>\n",
       "      <td>With some planning and a little extra effort, ...</td>\n",
       "      <td>0</td>\n",
       "      <td>planning little extra effort , ensure forget i...</td>\n",
       "      <td>[planning, little, extra, effort, ensure, forg...</td>\n",
       "      <td>[0.18469587, 0.5090236, -0.07076818, 0.0726464...</td>\n",
       "    </tr>\n",
       "    <tr>\n",
       "      <th>3</th>\n",
       "      <td>I am so disagree with some persons because no ...</td>\n",
       "      <td>1</td>\n",
       "      <td>disagree person like tree tree cute \\n\\n decis...</td>\n",
       "      <td>[disagree, person, like, tree, tree, cute, dec...</td>\n",
       "      <td>[0.0468319, 0.5489559, 0.07160778, 0.16879891,...</td>\n",
       "    </tr>\n",
       "    <tr>\n",
       "      <th>4</th>\n",
       "      <td>It also encourages us to be proactive and enha...</td>\n",
       "      <td>0</td>\n",
       "      <td>encourage proactive enhance productivity entir...</td>\n",
       "      <td>[encourage, proactive, enhance, productivity, ...</td>\n",
       "      <td>[0.19918543, 0.3232331, -0.260509, -0.12507297...</td>\n",
       "    </tr>\n",
       "  </tbody>\n",
       "</table>\n",
       "</div>"
      ],
      "text/plain": [
       "                                                data  label  \\\n",
       "0  \\n\\nSeveral educational facilities have alread...      0   \n",
       "1  But also make their own decisions. we never ar...      1   \n",
       "2  With some planning and a little extra effort, ...      0   \n",
       "3  I am so disagree with some persons because no ...      1   \n",
       "4  It also encourages us to be proactive and enha...      0   \n",
       "\n",
       "                                          preprocess  \\\n",
       "0  \\n\\n educational facility establish - school p...   \n",
       "1  decision . go know go happend . afraid onw dec...   \n",
       "2  planning little extra effort , ensure forget i...   \n",
       "3  disagree person like tree tree cute \\n\\n decis...   \n",
       "4  encourage proactive enhance productivity entir...   \n",
       "\n",
       "                                           tokenized  \\\n",
       "0  [educational, facility, establish, school, pro...   \n",
       "1  [decision, go, know, go, happend, afraid, onw,...   \n",
       "2  [planning, little, extra, effort, ensure, forg...   \n",
       "3  [disagree, person, like, tree, tree, cute, dec...   \n",
       "4  [encourage, proactive, enhance, productivity, ...   \n",
       "\n",
       "                                        data_vectors  \n",
       "0  [0.42978403, 0.48134315, -0.20548621, -0.01702...  \n",
       "1  [0.15664934, 0.278946, -0.19432779, 0.41142726...  \n",
       "2  [0.18469587, 0.5090236, -0.07076818, 0.0726464...  \n",
       "3  [0.0468319, 0.5489559, 0.07160778, 0.16879891,...  \n",
       "4  [0.19918543, 0.3232331, -0.260509, -0.12507297...  "
      ]
     },
     "execution_count": 45,
     "metadata": {},
     "output_type": "execute_result"
    }
   ],
   "source": [
    "df3.head()"
   ]
  },
  {
   "cell_type": "code",
   "execution_count": 46,
   "id": "f5d84644-163d-49b3-8610-09e8052ef7c4",
   "metadata": {},
   "outputs": [],
   "source": [
    "x = np.vstack(df3['data_vectors'].values)\n",
    "y = df3.label"
   ]
  },
  {
   "cell_type": "code",
   "execution_count": 50,
   "id": "ecbcb475-ca8d-4ce1-bb23-5b5d31388ad7",
   "metadata": {},
   "outputs": [],
   "source": [
    "from imblearn.over_sampling import SMOTE\n",
    "sampler = SMOTE(random_state = 42)"
   ]
  },
  {
   "cell_type": "code",
   "execution_count": 51,
   "id": "411dec1a-bbd3-4ea7-ae5c-ac0080e1f6d8",
   "metadata": {},
   "outputs": [],
   "source": [
    "x_samp,y_samp = sampler.fit_resample(x,y)"
   ]
  },
  {
   "cell_type": "code",
   "execution_count": 52,
   "id": "dd011a73-81a9-4297-8bc4-453f29bf6b3e",
   "metadata": {},
   "outputs": [
    {
     "data": {
      "text/plain": [
       "((2000, 100), (2000,))"
      ]
     },
     "execution_count": 52,
     "metadata": {},
     "output_type": "execute_result"
    }
   ],
   "source": [
    "x_samp.shape,y_samp.shape"
   ]
  },
  {
   "cell_type": "code",
   "execution_count": 53,
   "id": "beda614d-27de-455e-9227-f57ecd082a1a",
   "metadata": {},
   "outputs": [],
   "source": [
    "from sklearn.model_selection import train_test_split\n",
    "from sklearn.ensemble import RandomForestClassifier"
   ]
  },
  {
   "cell_type": "code",
   "execution_count": 54,
   "id": "b220135a-6a17-4236-8b4d-ad2412af95d3",
   "metadata": {},
   "outputs": [],
   "source": [
    "x_train,x_test,y_train,y_test = train_test_split(x_samp,y_samp,test_size = 0.2, random_state = 42, stratify = y)"
   ]
  },
  {
   "cell_type": "code",
   "execution_count": 55,
   "id": "9581720b-f2b9-4f8d-81e5-049d3b018233",
   "metadata": {},
   "outputs": [
    {
     "data": {
      "text/plain": [
       "((1600, 100), (1600,))"
      ]
     },
     "execution_count": 55,
     "metadata": {},
     "output_type": "execute_result"
    }
   ],
   "source": [
    "x_train.shape,y_train.shape"
   ]
  },
  {
   "cell_type": "code",
   "execution_count": 56,
   "id": "8944e926-6cf1-4c1a-94c1-6eb053ba20c3",
   "metadata": {},
   "outputs": [
    {
     "data": {
      "text/html": [
       "<style>#sk-container-id-1 {\n",
       "  /* Definition of color scheme common for light and dark mode */\n",
       "  --sklearn-color-text: black;\n",
       "  --sklearn-color-line: gray;\n",
       "  /* Definition of color scheme for unfitted estimators */\n",
       "  --sklearn-color-unfitted-level-0: #fff5e6;\n",
       "  --sklearn-color-unfitted-level-1: #f6e4d2;\n",
       "  --sklearn-color-unfitted-level-2: #ffe0b3;\n",
       "  --sklearn-color-unfitted-level-3: chocolate;\n",
       "  /* Definition of color scheme for fitted estimators */\n",
       "  --sklearn-color-fitted-level-0: #f0f8ff;\n",
       "  --sklearn-color-fitted-level-1: #d4ebff;\n",
       "  --sklearn-color-fitted-level-2: #b3dbfd;\n",
       "  --sklearn-color-fitted-level-3: cornflowerblue;\n",
       "\n",
       "  /* Specific color for light theme */\n",
       "  --sklearn-color-text-on-default-background: var(--sg-text-color, var(--theme-code-foreground, var(--jp-content-font-color1, black)));\n",
       "  --sklearn-color-background: var(--sg-background-color, var(--theme-background, var(--jp-layout-color0, white)));\n",
       "  --sklearn-color-border-box: var(--sg-text-color, var(--theme-code-foreground, var(--jp-content-font-color1, black)));\n",
       "  --sklearn-color-icon: #696969;\n",
       "\n",
       "  @media (prefers-color-scheme: dark) {\n",
       "    /* Redefinition of color scheme for dark theme */\n",
       "    --sklearn-color-text-on-default-background: var(--sg-text-color, var(--theme-code-foreground, var(--jp-content-font-color1, white)));\n",
       "    --sklearn-color-background: var(--sg-background-color, var(--theme-background, var(--jp-layout-color0, #111)));\n",
       "    --sklearn-color-border-box: var(--sg-text-color, var(--theme-code-foreground, var(--jp-content-font-color1, white)));\n",
       "    --sklearn-color-icon: #878787;\n",
       "  }\n",
       "}\n",
       "\n",
       "#sk-container-id-1 {\n",
       "  color: var(--sklearn-color-text);\n",
       "}\n",
       "\n",
       "#sk-container-id-1 pre {\n",
       "  padding: 0;\n",
       "}\n",
       "\n",
       "#sk-container-id-1 input.sk-hidden--visually {\n",
       "  border: 0;\n",
       "  clip: rect(1px 1px 1px 1px);\n",
       "  clip: rect(1px, 1px, 1px, 1px);\n",
       "  height: 1px;\n",
       "  margin: -1px;\n",
       "  overflow: hidden;\n",
       "  padding: 0;\n",
       "  position: absolute;\n",
       "  width: 1px;\n",
       "}\n",
       "\n",
       "#sk-container-id-1 div.sk-dashed-wrapped {\n",
       "  border: 1px dashed var(--sklearn-color-line);\n",
       "  margin: 0 0.4em 0.5em 0.4em;\n",
       "  box-sizing: border-box;\n",
       "  padding-bottom: 0.4em;\n",
       "  background-color: var(--sklearn-color-background);\n",
       "}\n",
       "\n",
       "#sk-container-id-1 div.sk-container {\n",
       "  /* jupyter's `normalize.less` sets `[hidden] { display: none; }`\n",
       "     but bootstrap.min.css set `[hidden] { display: none !important; }`\n",
       "     so we also need the `!important` here to be able to override the\n",
       "     default hidden behavior on the sphinx rendered scikit-learn.org.\n",
       "     See: https://github.com/scikit-learn/scikit-learn/issues/21755 */\n",
       "  display: inline-block !important;\n",
       "  position: relative;\n",
       "}\n",
       "\n",
       "#sk-container-id-1 div.sk-text-repr-fallback {\n",
       "  display: none;\n",
       "}\n",
       "\n",
       "div.sk-parallel-item,\n",
       "div.sk-serial,\n",
       "div.sk-item {\n",
       "  /* draw centered vertical line to link estimators */\n",
       "  background-image: linear-gradient(var(--sklearn-color-text-on-default-background), var(--sklearn-color-text-on-default-background));\n",
       "  background-size: 2px 100%;\n",
       "  background-repeat: no-repeat;\n",
       "  background-position: center center;\n",
       "}\n",
       "\n",
       "/* Parallel-specific style estimator block */\n",
       "\n",
       "#sk-container-id-1 div.sk-parallel-item::after {\n",
       "  content: \"\";\n",
       "  width: 100%;\n",
       "  border-bottom: 2px solid var(--sklearn-color-text-on-default-background);\n",
       "  flex-grow: 1;\n",
       "}\n",
       "\n",
       "#sk-container-id-1 div.sk-parallel {\n",
       "  display: flex;\n",
       "  align-items: stretch;\n",
       "  justify-content: center;\n",
       "  background-color: var(--sklearn-color-background);\n",
       "  position: relative;\n",
       "}\n",
       "\n",
       "#sk-container-id-1 div.sk-parallel-item {\n",
       "  display: flex;\n",
       "  flex-direction: column;\n",
       "}\n",
       "\n",
       "#sk-container-id-1 div.sk-parallel-item:first-child::after {\n",
       "  align-self: flex-end;\n",
       "  width: 50%;\n",
       "}\n",
       "\n",
       "#sk-container-id-1 div.sk-parallel-item:last-child::after {\n",
       "  align-self: flex-start;\n",
       "  width: 50%;\n",
       "}\n",
       "\n",
       "#sk-container-id-1 div.sk-parallel-item:only-child::after {\n",
       "  width: 0;\n",
       "}\n",
       "\n",
       "/* Serial-specific style estimator block */\n",
       "\n",
       "#sk-container-id-1 div.sk-serial {\n",
       "  display: flex;\n",
       "  flex-direction: column;\n",
       "  align-items: center;\n",
       "  background-color: var(--sklearn-color-background);\n",
       "  padding-right: 1em;\n",
       "  padding-left: 1em;\n",
       "}\n",
       "\n",
       "\n",
       "/* Toggleable style: style used for estimator/Pipeline/ColumnTransformer box that is\n",
       "clickable and can be expanded/collapsed.\n",
       "- Pipeline and ColumnTransformer use this feature and define the default style\n",
       "- Estimators will overwrite some part of the style using the `sk-estimator` class\n",
       "*/\n",
       "\n",
       "/* Pipeline and ColumnTransformer style (default) */\n",
       "\n",
       "#sk-container-id-1 div.sk-toggleable {\n",
       "  /* Default theme specific background. It is overwritten whether we have a\n",
       "  specific estimator or a Pipeline/ColumnTransformer */\n",
       "  background-color: var(--sklearn-color-background);\n",
       "}\n",
       "\n",
       "/* Toggleable label */\n",
       "#sk-container-id-1 label.sk-toggleable__label {\n",
       "  cursor: pointer;\n",
       "  display: block;\n",
       "  width: 100%;\n",
       "  margin-bottom: 0;\n",
       "  padding: 0.5em;\n",
       "  box-sizing: border-box;\n",
       "  text-align: center;\n",
       "}\n",
       "\n",
       "#sk-container-id-1 label.sk-toggleable__label-arrow:before {\n",
       "  /* Arrow on the left of the label */\n",
       "  content: \"▸\";\n",
       "  float: left;\n",
       "  margin-right: 0.25em;\n",
       "  color: var(--sklearn-color-icon);\n",
       "}\n",
       "\n",
       "#sk-container-id-1 label.sk-toggleable__label-arrow:hover:before {\n",
       "  color: var(--sklearn-color-text);\n",
       "}\n",
       "\n",
       "/* Toggleable content - dropdown */\n",
       "\n",
       "#sk-container-id-1 div.sk-toggleable__content {\n",
       "  max-height: 0;\n",
       "  max-width: 0;\n",
       "  overflow: hidden;\n",
       "  text-align: left;\n",
       "  /* unfitted */\n",
       "  background-color: var(--sklearn-color-unfitted-level-0);\n",
       "}\n",
       "\n",
       "#sk-container-id-1 div.sk-toggleable__content.fitted {\n",
       "  /* fitted */\n",
       "  background-color: var(--sklearn-color-fitted-level-0);\n",
       "}\n",
       "\n",
       "#sk-container-id-1 div.sk-toggleable__content pre {\n",
       "  margin: 0.2em;\n",
       "  border-radius: 0.25em;\n",
       "  color: var(--sklearn-color-text);\n",
       "  /* unfitted */\n",
       "  background-color: var(--sklearn-color-unfitted-level-0);\n",
       "}\n",
       "\n",
       "#sk-container-id-1 div.sk-toggleable__content.fitted pre {\n",
       "  /* unfitted */\n",
       "  background-color: var(--sklearn-color-fitted-level-0);\n",
       "}\n",
       "\n",
       "#sk-container-id-1 input.sk-toggleable__control:checked~div.sk-toggleable__content {\n",
       "  /* Expand drop-down */\n",
       "  max-height: 200px;\n",
       "  max-width: 100%;\n",
       "  overflow: auto;\n",
       "}\n",
       "\n",
       "#sk-container-id-1 input.sk-toggleable__control:checked~label.sk-toggleable__label-arrow:before {\n",
       "  content: \"▾\";\n",
       "}\n",
       "\n",
       "/* Pipeline/ColumnTransformer-specific style */\n",
       "\n",
       "#sk-container-id-1 div.sk-label input.sk-toggleable__control:checked~label.sk-toggleable__label {\n",
       "  color: var(--sklearn-color-text);\n",
       "  background-color: var(--sklearn-color-unfitted-level-2);\n",
       "}\n",
       "\n",
       "#sk-container-id-1 div.sk-label.fitted input.sk-toggleable__control:checked~label.sk-toggleable__label {\n",
       "  background-color: var(--sklearn-color-fitted-level-2);\n",
       "}\n",
       "\n",
       "/* Estimator-specific style */\n",
       "\n",
       "/* Colorize estimator box */\n",
       "#sk-container-id-1 div.sk-estimator input.sk-toggleable__control:checked~label.sk-toggleable__label {\n",
       "  /* unfitted */\n",
       "  background-color: var(--sklearn-color-unfitted-level-2);\n",
       "}\n",
       "\n",
       "#sk-container-id-1 div.sk-estimator.fitted input.sk-toggleable__control:checked~label.sk-toggleable__label {\n",
       "  /* fitted */\n",
       "  background-color: var(--sklearn-color-fitted-level-2);\n",
       "}\n",
       "\n",
       "#sk-container-id-1 div.sk-label label.sk-toggleable__label,\n",
       "#sk-container-id-1 div.sk-label label {\n",
       "  /* The background is the default theme color */\n",
       "  color: var(--sklearn-color-text-on-default-background);\n",
       "}\n",
       "\n",
       "/* On hover, darken the color of the background */\n",
       "#sk-container-id-1 div.sk-label:hover label.sk-toggleable__label {\n",
       "  color: var(--sklearn-color-text);\n",
       "  background-color: var(--sklearn-color-unfitted-level-2);\n",
       "}\n",
       "\n",
       "/* Label box, darken color on hover, fitted */\n",
       "#sk-container-id-1 div.sk-label.fitted:hover label.sk-toggleable__label.fitted {\n",
       "  color: var(--sklearn-color-text);\n",
       "  background-color: var(--sklearn-color-fitted-level-2);\n",
       "}\n",
       "\n",
       "/* Estimator label */\n",
       "\n",
       "#sk-container-id-1 div.sk-label label {\n",
       "  font-family: monospace;\n",
       "  font-weight: bold;\n",
       "  display: inline-block;\n",
       "  line-height: 1.2em;\n",
       "}\n",
       "\n",
       "#sk-container-id-1 div.sk-label-container {\n",
       "  text-align: center;\n",
       "}\n",
       "\n",
       "/* Estimator-specific */\n",
       "#sk-container-id-1 div.sk-estimator {\n",
       "  font-family: monospace;\n",
       "  border: 1px dotted var(--sklearn-color-border-box);\n",
       "  border-radius: 0.25em;\n",
       "  box-sizing: border-box;\n",
       "  margin-bottom: 0.5em;\n",
       "  /* unfitted */\n",
       "  background-color: var(--sklearn-color-unfitted-level-0);\n",
       "}\n",
       "\n",
       "#sk-container-id-1 div.sk-estimator.fitted {\n",
       "  /* fitted */\n",
       "  background-color: var(--sklearn-color-fitted-level-0);\n",
       "}\n",
       "\n",
       "/* on hover */\n",
       "#sk-container-id-1 div.sk-estimator:hover {\n",
       "  /* unfitted */\n",
       "  background-color: var(--sklearn-color-unfitted-level-2);\n",
       "}\n",
       "\n",
       "#sk-container-id-1 div.sk-estimator.fitted:hover {\n",
       "  /* fitted */\n",
       "  background-color: var(--sklearn-color-fitted-level-2);\n",
       "}\n",
       "\n",
       "/* Specification for estimator info (e.g. \"i\" and \"?\") */\n",
       "\n",
       "/* Common style for \"i\" and \"?\" */\n",
       "\n",
       ".sk-estimator-doc-link,\n",
       "a:link.sk-estimator-doc-link,\n",
       "a:visited.sk-estimator-doc-link {\n",
       "  float: right;\n",
       "  font-size: smaller;\n",
       "  line-height: 1em;\n",
       "  font-family: monospace;\n",
       "  background-color: var(--sklearn-color-background);\n",
       "  border-radius: 1em;\n",
       "  height: 1em;\n",
       "  width: 1em;\n",
       "  text-decoration: none !important;\n",
       "  margin-left: 1ex;\n",
       "  /* unfitted */\n",
       "  border: var(--sklearn-color-unfitted-level-1) 1pt solid;\n",
       "  color: var(--sklearn-color-unfitted-level-1);\n",
       "}\n",
       "\n",
       ".sk-estimator-doc-link.fitted,\n",
       "a:link.sk-estimator-doc-link.fitted,\n",
       "a:visited.sk-estimator-doc-link.fitted {\n",
       "  /* fitted */\n",
       "  border: var(--sklearn-color-fitted-level-1) 1pt solid;\n",
       "  color: var(--sklearn-color-fitted-level-1);\n",
       "}\n",
       "\n",
       "/* On hover */\n",
       "div.sk-estimator:hover .sk-estimator-doc-link:hover,\n",
       ".sk-estimator-doc-link:hover,\n",
       "div.sk-label-container:hover .sk-estimator-doc-link:hover,\n",
       ".sk-estimator-doc-link:hover {\n",
       "  /* unfitted */\n",
       "  background-color: var(--sklearn-color-unfitted-level-3);\n",
       "  color: var(--sklearn-color-background);\n",
       "  text-decoration: none;\n",
       "}\n",
       "\n",
       "div.sk-estimator.fitted:hover .sk-estimator-doc-link.fitted:hover,\n",
       ".sk-estimator-doc-link.fitted:hover,\n",
       "div.sk-label-container:hover .sk-estimator-doc-link.fitted:hover,\n",
       ".sk-estimator-doc-link.fitted:hover {\n",
       "  /* fitted */\n",
       "  background-color: var(--sklearn-color-fitted-level-3);\n",
       "  color: var(--sklearn-color-background);\n",
       "  text-decoration: none;\n",
       "}\n",
       "\n",
       "/* Span, style for the box shown on hovering the info icon */\n",
       ".sk-estimator-doc-link span {\n",
       "  display: none;\n",
       "  z-index: 9999;\n",
       "  position: relative;\n",
       "  font-weight: normal;\n",
       "  right: .2ex;\n",
       "  padding: .5ex;\n",
       "  margin: .5ex;\n",
       "  width: min-content;\n",
       "  min-width: 20ex;\n",
       "  max-width: 50ex;\n",
       "  color: var(--sklearn-color-text);\n",
       "  box-shadow: 2pt 2pt 4pt #999;\n",
       "  /* unfitted */\n",
       "  background: var(--sklearn-color-unfitted-level-0);\n",
       "  border: .5pt solid var(--sklearn-color-unfitted-level-3);\n",
       "}\n",
       "\n",
       ".sk-estimator-doc-link.fitted span {\n",
       "  /* fitted */\n",
       "  background: var(--sklearn-color-fitted-level-0);\n",
       "  border: var(--sklearn-color-fitted-level-3);\n",
       "}\n",
       "\n",
       ".sk-estimator-doc-link:hover span {\n",
       "  display: block;\n",
       "}\n",
       "\n",
       "/* \"?\"-specific style due to the `<a>` HTML tag */\n",
       "\n",
       "#sk-container-id-1 a.estimator_doc_link {\n",
       "  float: right;\n",
       "  font-size: 1rem;\n",
       "  line-height: 1em;\n",
       "  font-family: monospace;\n",
       "  background-color: var(--sklearn-color-background);\n",
       "  border-radius: 1rem;\n",
       "  height: 1rem;\n",
       "  width: 1rem;\n",
       "  text-decoration: none;\n",
       "  /* unfitted */\n",
       "  color: var(--sklearn-color-unfitted-level-1);\n",
       "  border: var(--sklearn-color-unfitted-level-1) 1pt solid;\n",
       "}\n",
       "\n",
       "#sk-container-id-1 a.estimator_doc_link.fitted {\n",
       "  /* fitted */\n",
       "  border: var(--sklearn-color-fitted-level-1) 1pt solid;\n",
       "  color: var(--sklearn-color-fitted-level-1);\n",
       "}\n",
       "\n",
       "/* On hover */\n",
       "#sk-container-id-1 a.estimator_doc_link:hover {\n",
       "  /* unfitted */\n",
       "  background-color: var(--sklearn-color-unfitted-level-3);\n",
       "  color: var(--sklearn-color-background);\n",
       "  text-decoration: none;\n",
       "}\n",
       "\n",
       "#sk-container-id-1 a.estimator_doc_link.fitted:hover {\n",
       "  /* fitted */\n",
       "  background-color: var(--sklearn-color-fitted-level-3);\n",
       "}\n",
       "</style><div id=\"sk-container-id-1\" class=\"sk-top-container\"><div class=\"sk-text-repr-fallback\"><pre>RandomForestClassifier(n_estimators=30)</pre><b>In a Jupyter environment, please rerun this cell to show the HTML representation or trust the notebook. <br />On GitHub, the HTML representation is unable to render, please try loading this page with nbviewer.org.</b></div><div class=\"sk-container\" hidden><div class=\"sk-item\"><div class=\"sk-estimator fitted sk-toggleable\"><input class=\"sk-toggleable__control sk-hidden--visually\" id=\"sk-estimator-id-1\" type=\"checkbox\" checked><label for=\"sk-estimator-id-1\" class=\"sk-toggleable__label fitted sk-toggleable__label-arrow fitted\">&nbsp;&nbsp;RandomForestClassifier<a class=\"sk-estimator-doc-link fitted\" rel=\"noreferrer\" target=\"_blank\" href=\"https://scikit-learn.org/1.4/modules/generated/sklearn.ensemble.RandomForestClassifier.html\">?<span>Documentation for RandomForestClassifier</span></a><span class=\"sk-estimator-doc-link fitted\">i<span>Fitted</span></span></label><div class=\"sk-toggleable__content fitted\"><pre>RandomForestClassifier(n_estimators=30)</pre></div> </div></div></div></div>"
      ],
      "text/plain": [
       "RandomForestClassifier(n_estimators=30)"
      ]
     },
     "execution_count": 56,
     "metadata": {},
     "output_type": "execute_result"
    }
   ],
   "source": [
    "rf = RandomForestClassifier(n_estimators = 30)\n",
    "rf.fit(x_train,y_train)"
   ]
  },
  {
   "cell_type": "code",
   "execution_count": 57,
   "id": "8b1a4513-b9c1-441d-8113-ef3c6d15c242",
   "metadata": {},
   "outputs": [],
   "source": [
    "from sklearn.metrics import classification_report"
   ]
  },
  {
   "cell_type": "code",
   "execution_count": 58,
   "id": "fd5cdbb2-719c-4c86-af83-23e4b75a33b4",
   "metadata": {},
   "outputs": [
    {
     "name": "stdout",
     "output_type": "stream",
     "text": [
      "              precision    recall  f1-score   support\n",
      "\n",
      "           0       0.97      0.97      0.97       200\n",
      "           1       0.97      0.97      0.97       200\n",
      "\n",
      "    accuracy                           0.97       400\n",
      "   macro avg       0.97      0.97      0.97       400\n",
      "weighted avg       0.97      0.97      0.97       400\n",
      "\n"
     ]
    }
   ],
   "source": [
    "rf_pred = rf.predict(x_test)\n",
    "print(classification_report(y_test,rf_pred))"
   ]
  },
  {
   "cell_type": "markdown",
   "id": "6600eecc-d80f-4d0c-be4f-079317a22328",
   "metadata": {},
   "source": [
    "# Verifing the model on chatgpt and whatsapp text:"
   ]
  },
  {
   "cell_type": "code",
   "execution_count": 112,
   "id": "a132da8f-2025-4a43-8843-fea4095b66db",
   "metadata": {},
   "outputs": [],
   "source": [
    "def final(text,model):\n",
    "    t = preprocess(text)\n",
    "    sp = gensim.utils.simple_preprocess(t)\n",
    "    for word in sp:\n",
    "        if word in model.wv:\n",
    "            v = [model.wv[word]]\n",
    "    return v"
   ]
  },
  {
   "cell_type": "code",
   "execution_count": 113,
   "id": "7767549d-0044-4f96-bec3-6e006c9ad483",
   "metadata": {},
   "outputs": [],
   "source": [
    "t = \"The law of supply explains the relationship between the quantity supplied of a commodity and its price. It states that, generally, the quantity supplied of a commodity varies directly with its price. This means that when the price of a product increases, the quantity supplied also increases, and when the price decreases, the quantity supplied decreases as well.\"\n",
    "r = final(t,model)"
   ]
  },
  {
   "cell_type": "code",
   "execution_count": 114,
   "id": "77e6d449-2e7c-4ea3-9909-edbbe1203408",
   "metadata": {},
   "outputs": [
    {
     "data": {
      "text/plain": [
       "array([0], dtype=int64)"
      ]
     },
     "execution_count": 114,
     "metadata": {},
     "output_type": "execute_result"
    }
   ],
   "source": [
    "rf.predict(r)"
   ]
  },
  {
   "cell_type": "code",
   "execution_count": 116,
   "id": "34ec1fae-f42e-4cf6-8196-06c0f0bf6269",
   "metadata": {},
   "outputs": [],
   "source": [
    "hi = \"I searched the online afternnon. I found out that It is very hard to create the ui with the features that you said. Also it will take such time .\"\n",
    "hir = final(hi,model)"
   ]
  },
  {
   "cell_type": "code",
   "execution_count": 117,
   "id": "7091b305-0ccc-4664-b5ac-87fa41a22da3",
   "metadata": {},
   "outputs": [
    {
     "data": {
      "text/plain": [
       "array([1], dtype=int64)"
      ]
     },
     "execution_count": 117,
     "metadata": {},
     "output_type": "execute_result"
    }
   ],
   "source": [
    "rf.predict(hir)"
   ]
  },
  {
   "cell_type": "code",
   "execution_count": 124,
   "id": "adfbaf1e-3a66-4c52-8b79-35141251f1b0",
   "metadata": {},
   "outputs": [
    {
     "name": "stdout",
     "output_type": "stream",
     "text": [
      "~ Human Written ~\n"
     ]
    }
   ],
   "source": [
    "tt = \"Today is a very good day. By God's grace we went to temple and had the darshan of lord vishnu.\"\n",
    "hit = final(tt,model)\n",
    "if rf.predict(hit)[0] == 1:\n",
    "    print(\"~ Human Written ~\")\n",
    "else:\n",
    "    print(\" ~ AI Generated ~ \")"
   ]
  },
  {
   "cell_type": "code",
   "execution_count": null,
   "id": "25c2c2ac-2662-4547-b912-d054d928934d",
   "metadata": {},
   "outputs": [],
   "source": []
  }
 ],
 "metadata": {
  "kernelspec": {
   "display_name": "Python 3 (ipykernel)",
   "language": "python",
   "name": "python3"
  },
  "language_info": {
   "codemirror_mode": {
    "name": "ipython",
    "version": 3
   },
   "file_extension": ".py",
   "mimetype": "text/x-python",
   "name": "python",
   "nbconvert_exporter": "python",
   "pygments_lexer": "ipython3",
   "version": "3.12.7"
  }
 },
 "nbformat": 4,
 "nbformat_minor": 5
}
